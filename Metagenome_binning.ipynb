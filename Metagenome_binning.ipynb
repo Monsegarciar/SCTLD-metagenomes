{
 "cells": [
  {
   "cell_type": "markdown",
   "id": "e85e81c3",
   "metadata": {},
   "source": [
    "### Preparing assembly files for binning\n",
    "To create a depth processing file, reads must be re-aligned to the contigs. This has been done using bowtie2 (can also be done using BWA). The next step would be to create a depth file with MetaBat2, convert that to be suitable for CONCOCT and MaxBin2, and then process these into bins. "
   ]
  },
  {
   "cell_type": "code",
   "execution_count": 1,
   "id": "bc247015",
   "metadata": {},
   "outputs": [
    {
     "ename": "SyntaxError",
     "evalue": "invalid syntax (<ipython-input-1-22de35fddd80>, line 3)",
     "output_type": "error",
     "traceback": [
      "\u001b[0;36m  Input \u001b[0;32mIn [1]\u001b[0;36m\u001b[0m\n\u001b[0;31m    for f in Coral1 Coral2 Coral4 Coral5 T3-21-Mmea T3-4-Past\u001b[0m\n\u001b[0m                    ^\u001b[0m\n\u001b[0;31mSyntaxError\u001b[0m\u001b[0;31m:\u001b[0m invalid syntax\n"
     ]
    }
   ],
   "source": [
    "#this creates a depth file for MetaBat\n",
    "#check names of the mapping files\n",
    "for f in Coral1 Coral2 Coral4 Coral5 T3-21-Mmea T3-4-Past\n",
    "do\n",
    "jgi_summarize_bam_contig_depths --outputDepth ../data/working/metabat_depth_\"$f\".txt ../../04_mapping/data/results/\"$f\".bam\n",
    "done"
   ]
  },
  {
   "cell_type": "code",
   "execution_count": 2,
   "id": "d66f7bd4",
   "metadata": {},
   "outputs": [
    {
     "ename": "SyntaxError",
     "evalue": "invalid syntax (<ipython-input-2-70357cb867cc>, line 2)",
     "output_type": "error",
     "traceback": [
      "\u001b[0;36m  Input \u001b[0;32mIn [2]\u001b[0;36m\u001b[0m\n\u001b[0;31m    for f in Coral1 Coral2 Coral4 Coral5 T3-21-Mmea T3-4-Past; do\u001b[0m\n\u001b[0m                    ^\u001b[0m\n\u001b[0;31mSyntaxError\u001b[0m\u001b[0;31m:\u001b[0m invalid syntax\n"
     ]
    }
   ],
   "source": [
    "#this creates the MaxBin depth file SEE IF THERE IS AN ALTERNATIVE\n",
    "for f in Coral1 Coral2 Coral4 Coral5 T3-21-Mmea T3-4-Past; do\n",
    "    jgi_summarize_bam_contig_depths --outputDepth ../data/working/mb2_master_depth_\"$f\".txt --noIntraDepthVariance ../../04_mapping/data/results/\"$f\".bam\n",
    "    A=($(head -n 1 ../data/working/mb2_master_depth_\"$f\".txt)) \n",
    "    N=${#A[*]}\n",
    "done\n",
    "#the next bit breaks the depth file into different files for MaxBin to use       \n",
    "for i in $(seq 4 $N); do \n",
    "\t\tsample=$(head -n 1 ../data/working/mb2_master_depth_\"$f\".txt | cut -f $i) #dont think this line works yet\n",
    "\t\tgrep -v totalAvgDepth ${out}/work_files/mb2_master_depth.txt | cut -f 1,$i > ${out}/work_files/mb2_${sample%.*}.txt\n",
    "        "
   ]
  },
  {
   "cell_type": "code",
   "execution_count": null,
   "id": "79ee12e3",
   "metadata": {},
   "outputs": [],
   "source": [
    "#this creates the CONCOCT depth file\n",
    "\n",
    "#this part cuts up the contigs into 10kn files ARE THESE SCRIPTS CONCOCT INHERENT?\n",
    "for f in Coral1 Coral2 Coral4 Coral5 T3-21-Mmea T3-4-Past\n",
    "\t\tcut_up_fasta.py $../../02_assembly/\"$f\"_assembly.fa -c 10000 --merge_last -b ${out}/work_files/assembly_10K.bed -o 0 > ${out}/work_files/assembly_10K.fa\n",
    "\n",
    "\t\tcomm \"estimating contig fragment coverage...\"\t\n",
    "\t\tCMD=\"concoct_coverage_table.py ${out}/work_files/assembly_10K.bed ${out}/work_files/*.bam > ${out}/work_files/concoct_depth.txt\"\n",
    "\t\t$(eval $CMD)\n",
    "\t\tif [[ $? -ne 0 ]]; then error \"Something went wrong with estimating fragment abundance. Exiting...\"; fi\n",
    "\telse\n",
    "\t\tcomm \"looks like contig coverage was already estimated... skipping\""
   ]
  }
 ],
 "metadata": {
  "kernelspec": {
   "display_name": "Python 3",
   "language": "python",
   "name": "python3"
  },
  "language_info": {
   "codemirror_mode": {
    "name": "ipython",
    "version": 3
   },
   "file_extension": ".py",
   "mimetype": "text/x-python",
   "name": "python",
   "nbconvert_exporter": "python",
   "pygments_lexer": "ipython3",
   "version": "3.9.7"
  }
 },
 "nbformat": 4,
 "nbformat_minor": 5
}
