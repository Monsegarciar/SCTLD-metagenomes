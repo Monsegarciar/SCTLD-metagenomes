{
 "cells": [
  {
   "cell_type": "markdown",
   "id": "6b6cbe24",
   "metadata": {},
   "source": [
    "## MetaBAT2 tinkering\n",
    "MetaBAT2 offers a host of options, which all do or don't work to a certain extent. There are several parameters that influence the amount and quality of the contigs:\n",
    "\n",
    "* minimum contig length [-m] : This determines how many of your contigs are involved in your assembly, default setting is 2500\n",
    "* maxP [--maxP] : This is the % of good contigs to be binned, it assumes 5% is noise\n",
    "* maxEdges [--maxEdges]: \n",
    "* Minimum cluster size [-s]: This determines how many basepairs a cluster needs before being considered a bin. \n",
    "\n",
    "To test which settings are influential, MetaBAT2 was run on the following settings, on the same dataset (Cavernosa_filtered), using the same depth files and contigs. Pre-generated depth file was also supplied."
   ]
  },
  {
   "cell_type": "code",
   "execution_count": 1,
   "id": "990adaef",
   "metadata": {},
   "outputs": [
    {
     "ename": "SyntaxError",
     "evalue": "invalid syntax (<ipython-input-1-564859690959>, line 2)",
     "output_type": "error",
     "traceback": [
      "\u001b[0;36m  Input \u001b[0;32mIn [1]\u001b[0;36m\u001b[0m\n\u001b[0;31m    metabat2 -i ../../02_assembly/data/contigs_fixed/co-assembly1.contigs-fixed.fa -a ../data/working/metabat_depth_co-assembly1.txt \\\u001b[0m\n\u001b[0m                 ^\u001b[0m\n\u001b[0;31mSyntaxError\u001b[0m\u001b[0;31m:\u001b[0m invalid syntax\n"
     ]
    }
   ],
   "source": [
    "#standard MetaBAT script\n",
    "metabat2 -i ../prefab_files/co-assembly1.contigs-fixed.fa -a ../prefab-files/metabat_depth_co-assembly1.txt \\\n",
    "-o ../results/MetaBAT_standard_bins/bin \\\n",
    "\n",
    "export CHECKM_DATA_PATH=/scratch/genomics/stegmannt/metagenomes/first_data-CC-revisit/04_binning/data/DATABASE/\n",
    "checkm data setRoot /scratch/genomics/stegmannt/metagenomes/first_data-CC-revisit/04_binning/data/DATABASE/\n",
    "checkm lineage_wf -x fa -t 6 ../results/MetaBAT_standard_bins ../results/MetaBAT_standard_bins/bins-stats"
   ]
  },
  {
   "cell_type": "markdown",
   "id": "ab93ce4a",
   "metadata": {},
   "source": [
    "This generates 2 bins, representing 2 genomes. CheckM data shows:\n",
    "Bin 1 has a completeness of 99.47% and a contamination of 2.3 percent. According to CheckM, this genome belongs to the order of Sphingomodales\n",
    "Bin 2 has a completeness of 7.39% and a contamination of 0.0%. According to CheckM, this genome belongs to the Kingdom of Archaea\n"
   ]
  },
  {
   "cell_type": "markdown",
   "id": "793bb130",
   "metadata": {},
   "source": [
    "#### Contig length"
   ]
  },
  {
   "cell_type": "code",
   "execution_count": 2,
   "id": "d0e0d8a8",
   "metadata": {},
   "outputs": [
    {
     "ename": "SyntaxError",
     "evalue": "invalid syntax (<ipython-input-2-f8edf56b0da5>, line 2)",
     "output_type": "error",
     "traceback": [
      "\u001b[0;36m  Input \u001b[0;32mIn [2]\u001b[0;36m\u001b[0m\n\u001b[0;31m    metabat2 -i ../prefab_files/co-assembly1.contigs-fixed.fa -a ../prefab-files/metabat_depth_co-assembly1.txt \\\u001b[0m\n\u001b[0m                 ^\u001b[0m\n\u001b[0;31mSyntaxError\u001b[0m\u001b[0;31m:\u001b[0m invalid syntax\n"
     ]
    }
   ],
   "source": [
    "#min-contig-length adapted to 1000\n",
    "metabat2 -i ../prefab_files/co-assembly1.contigs-fixed.fa -a ../prefab_files/metabat_depth_co-assembly1.txt \\\n",
    "-o ../results/MetaBAT_1000_bins/bin \\\n",
    "-m 1000\n",
    "\n",
    "export CHECKM_DATA_PATH=/scratch/genomics/stegmannt/metagenomes/first_data-CC-revisit/04_binning/data/DATABASE/\n",
    "checkm data setRoot /scratch/genomics/stegmannt/metagenomes/first_data-CC-revisit/04_binning/data/DATABASE/\n",
    "checkm lineage_wf -x fa -t 6 ../results/MetaBAT_1000_bins ../results/MetaBAT_1000_bins/bins-stats\n"
   ]
  },
  {
   "cell_type": "markdown",
   "id": "949b2ded",
   "metadata": {},
   "source": [
    "This gives no bins. MetaBAT does not allow contigs below 1500."
   ]
  },
  {
   "cell_type": "code",
   "execution_count": null,
   "id": "097a054c",
   "metadata": {},
   "outputs": [],
   "source": [
    "#min-contig-length set to 1500\n",
    "metabat2 -i ../prefab_files/co-assembly1.contigs-fixed.fa -a ../prefab_files/metabat_depth_co-assembly1.txt \\\n",
    "-o ../results/MetaBAT_1500_bins/bin \\\n",
    "-m 1500\n",
    "\n",
    "export CHECKM_DATA_PATH=/scratch/genomics/stegmannt/metagenomes/first_data-CC-revisit/04_binning/data/DATABASE/\n",
    "checkm data setRoot /scratch/genomics/stegmannt/metagenomes/first_data-CC-revisit/04_binning/data/DATABASE/\n",
    "checkm lineage_wf -x fa -t 6 ../results/MetaBAT_1500_bins ../results/MetaBAT_1500_bins/bins-stats"
   ]
  },
  {
   "cell_type": "markdown",
   "id": "98fd0c45",
   "metadata": {},
   "source": [
    "This gives 3 bins:\n",
    "\n",
    "Bin 1 is a Sphingomodales bin of 99.47% completeness, with 2.3% contamination: contains 26 genomes. \n",
    "\n",
    "Bin 2 is a bacterial genome of 89% completeness, with 0.0% contamination; contains 5449 genomes\n",
    "\n",
    "Bin 3 is an archaeal genome of 34.28% completeness with 2.82% contamination; contains 207 genomes"
   ]
  },
  {
   "cell_type": "code",
   "execution_count": 3,
   "id": "04dfb3f9",
   "metadata": {},
   "outputs": [
    {
     "ename": "SyntaxError",
     "evalue": "invalid syntax (<ipython-input-3-9cfc73a8b7df>, line 2)",
     "output_type": "error",
     "traceback": [
      "\u001b[0;36m  Input \u001b[0;32mIn [3]\u001b[0;36m\u001b[0m\n\u001b[0;31m    metabat2 -i ../prefab_files/co-assembly1.contigs-fixed.fa -a ../prefab-files/metabat_depth_co-assembly1.txt \\\u001b[0m\n\u001b[0m                 ^\u001b[0m\n\u001b[0;31mSyntaxError\u001b[0m\u001b[0;31m:\u001b[0m invalid syntax\n"
     ]
    }
   ],
   "source": [
    "#min-contig-length set to 2000\n",
    "metabat2 -i ../prefab_files/co-assembly1.contigs-fixed.fa -a ../prefab_files/metabat_depth_co-assembly1.txt \\\n",
    "-o ../results/MetaBAT_2000_bins/bin \\\n",
    "-m 2000\n",
    "\n",
    "export CHECKM_DATA_PATH=/scratch/genomics/stegmannt/metagenomes/first_data-CC-revisit/04_binning/data/DATABASE/\n",
    "checkm data setRoot /scratch/genomics/stegmannt/metagenomes/first_data-CC-revisit/04_binning/data/DATABASE/\n",
    "checkm lineage_wf -x fa -t 6 ../results/MetaBAT_2000_bins ../results/MetaBAT_2000_bins/bins-stats"
   ]
  },
  {
   "cell_type": "markdown",
   "id": "14a80949",
   "metadata": {},
   "source": [
    "This creates 2 bins: \n",
    "\n",
    "Bin1 is a Sphingomodales bin of 99.47% completeness, with 2.3% contamination; contains 26 genomes\n",
    "\n",
    "Bin2 is an Archaea bin of 17.55% completeness with 0.5% contamination; contains 207 genomes"
   ]
  },
  {
   "cell_type": "markdown",
   "id": "5dd5dee8",
   "metadata": {},
   "source": [
    "### maxP"
   ]
  },
  {
   "cell_type": "code",
   "execution_count": null,
   "id": "3fb2b973",
   "metadata": {},
   "outputs": [],
   "source": [
    "#maxP adapted to 75\n",
    "metabat2 -i ../prefab_files/co-assembly1.contigs-fixed.fa -a ../prefab_files/metabat_depth_co-assembly1.txt \\\n",
    "-o ../results/MetaBAT_mP75_bins/bin \\\n",
    "--maxP 75\n",
    "\n",
    "export CHECKM_DATA_PATH=/scratch/genomics/stegmannt/metagenomes/first_data-CC-revisit/04_binning/data/DATABASE/\n",
    "checkm data setRoot /scratch/genomics/stegmannt/metagenomes/first_data-CC-revisit/04_binning/data/DATABASE/\n",
    "checkm lineage_wf -x fa -t 6 ../results/MetaBAT_mP75_bins ../results/MetaBAT_mP75_bins/bins-stats"
   ]
  },
  {
   "cell_type": "markdown",
   "id": "d42ed173",
   "metadata": {},
   "source": [
    "This results in 2 bins:\n",
    "\n",
    "Bin1 is a Sphingomodales bin of 99.47% completeness, with 2.3% contamination; contains 26 genomes\n",
    "Bin2 is an Archaea bin of 7.39% completeness with 0.0% contamination; contains 207 genomes"
   ]
  },
  {
   "cell_type": "code",
   "execution_count": null,
   "id": "a8c3043a",
   "metadata": {},
   "outputs": [],
   "source": [
    "#maxP adapted to 80\n",
    "metabat2 -i ../prefab_files/co-assembly1.contigs-fixed.fa -a ../prefab_files/metabat_depth_co-assembly1.txt \\\n",
    "-o ../results/MetaBAT_mP80_bins/bin \\\n",
    "--maxP 80\n",
    "\n",
    "export CHECKM_DATA_PATH=/scratch/genomics/stegmannt/metagenomes/first_data-CC-revisit/04_binning/data/DATABASE/\n",
    "checkm data setRoot /scratch/genomics/stegmannt/metagenomes/first_data-CC-revisit/04_binning/data/DATABASE/\n",
    "checkm lineage_wf -x fa -t 6 ../results/MetaBAT_mP80_bins ../results/MetaBAT_mP80_bins/bins-stats"
   ]
  },
  {
   "cell_type": "markdown",
   "id": "5e8a1d19",
   "metadata": {},
   "source": [
    "This results in "
   ]
  },
  {
   "cell_type": "code",
   "execution_count": null,
   "id": "b0d17083",
   "metadata": {},
   "outputs": [],
   "source": [
    "#maxP adapted to 85\n",
    "metabat2 -i ../prefab_files/co-assembly1.contigs-fixed.fa -a ../prefab_files/metabat_depth_co-assembly1.txt \\\n",
    "-o ../results/MetaBAT_mP85_bins/bin \\\n",
    "--maxP 85\n",
    "\n",
    "export CHECKM_DATA_PATH=/scratch/genomics/stegmannt/metagenomes/first_data-CC-revisit/04_binning/data/DATABASE/\n",
    "checkm data setRoot /scratch/genomics/stegmannt/metagenomes/first_data-CC-revisit/04_binning/data/DATABASE/\n",
    "checkm lineage_wf -x fa -t 6 ../results/MetaBAT_mP85_bins ../results/MetaBAT_mP85_bins/bins-stats"
   ]
  },
  {
   "cell_type": "code",
   "execution_count": null,
   "id": "407a5137",
   "metadata": {},
   "outputs": [],
   "source": [
    "#maxP adapted to 90\n",
    "metabat2 -i ../prefab_files/co-assembly1.contigs-fixed.fa -a ../prefab_files/metabat_depth_co-assembly1.txt \\\n",
    "-o ../results/MetaBAT_mP90_bins/bin \\\n",
    "--maxP 90\n",
    "\n",
    "export CHECKM_DATA_PATH=/scratch/genomics/stegmannt/metagenomes/first_data-CC-revisit/04_binning/data/DATABASE/\n",
    "checkm data setRoot /scratch/genomics/stegmannt/metagenomes/first_data-CC-revisit/04_binning/data/DATABASE/\n",
    "checkm lineage_wf -x fa -t 6 ../results/MetaBAT_mP90_bins ../results/MetaBAT_mP90_bins/bins-stats"
   ]
  },
  {
   "cell_type": "markdown",
   "id": "ab99c125",
   "metadata": {},
   "source": [
    "### maxEdges"
   ]
  },
  {
   "cell_type": "code",
   "execution_count": null,
   "id": "c2979b7d",
   "metadata": {},
   "outputs": [],
   "source": [
    "#maxEdges set to 100\n",
    "metabat2 -i ../prefab_files/co-assembly1.contigs-fixed.fa -a ../prefab_files/metabat_depth_co-assembly1.txt \\\n",
    "-o ../results/MetaBAT_mE_100_bins/bin \\\n",
    "--maxEdges 100\n",
    "\n",
    "export CHECKM_DATA_PATH=/scratch/genomics/stegmannt/metagenomes/first_data-CC-revisit/04_binning/data/DATABASE/\n",
    "checkm data setRoot /scratch/genomics/stegmannt/metagenomes/first_data-CC-revisit/04_binning/data/DATABASE/\n",
    "checkm lineage_wf -x fa -t 6 ../results/MetaBAT_mE_100_bins ../results/MetaBAT_mE_100_bins/bins-stats"
   ]
  },
  {
   "cell_type": "code",
   "execution_count": null,
   "id": "ed0c210e",
   "metadata": {},
   "outputs": [],
   "source": [
    "#maxEdges set to 300\n",
    "metabat2 -i ../prefab_files/co-assembly1.contigs-fixed.fa -a ../prefab_files/metabat_depth_co-assembly1.txt \\\n",
    "-o ../results/MetaBAT_mE_300_bins/bin \\\n",
    "--maxEdges 300\n",
    "\n",
    "export CHECKM_DATA_PATH=/scratch/genomics/stegmannt/metagenomes/first_data-CC-revisit/04_binning/data/DATABASE/\n",
    "checkm data setRoot /scratch/genomics/stegmannt/metagenomes/first_data-CC-revisit/04_binning/data/DATABASE/\n",
    "checkm lineage_wf -x fa -t 6 ../results/MetaBAT_mE_300_bins ../results/MetaBAT_mE_300_bins/bins-stats"
   ]
  },
  {
   "cell_type": "code",
   "execution_count": null,
   "id": "12911a72",
   "metadata": {},
   "outputs": [],
   "source": [
    "#maxEdges set to 500\n",
    "metabat2 -i ../prefab_files/co-assembly1.contigs-fixed.fa -a ../prefab_files/metabat_depth_co-assembly1.txt \\\n",
    "-o ../results/MetaBAT_mE_500_bins/bin \\\n",
    "--maxEdges 500\n",
    "\n",
    "export CHECKM_DATA_PATH=/scratch/genomics/stegmannt/metagenomes/first_data-CC-revisit/04_binning/data/DATABASE/\n",
    "checkm data setRoot /scratch/genomics/stegmannt/metagenomes/first_data-CC-revisit/04_binning/data/DATABASE/\n",
    "checkm lineage_wf -x fa -t 6 ../results/MetaBAT_mE_500_bins ../results/MetaBAT_mE_500_bins/bins-stats"
   ]
  },
  {
   "cell_type": "code",
   "execution_count": null,
   "id": "f390a1aa",
   "metadata": {},
   "outputs": [],
   "source": []
  },
  {
   "cell_type": "markdown",
   "id": "eb1d19a9",
   "metadata": {},
   "source": [
    "### Cluster size"
   ]
  },
  {
   "cell_type": "code",
   "execution_count": null,
   "id": "9b20c9dd",
   "metadata": {},
   "outputs": [],
   "source": [
    "#Cluster size set to 10000\n",
    "metabat2 -i ../prefab_files/co-assembly1.contigs-fixed.fa -a ../prefab_files/metabat_depth_co-assembly1.txt \\\n",
    "-o ../results/MetaBAT_s10000_bins/bin \\\n",
    "-s 10000\n",
    "\n",
    "export CHECKM_DATA_PATH=/scratch/genomics/stegmannt/metagenomes/first_data-CC-revisit/04_binning/data/DATABASE/\n",
    "checkm data setRoot /scratch/genomics/stegmannt/metagenomes/first_data-CC-revisit/04_binning/data/DATABASE/\n",
    "checkm lineage_wf -x fa -t 6 ../results/MetaBAT_s10000_bins ../results/MetaBAT_s10000_bins/bins-stats"
   ]
  },
  {
   "cell_type": "code",
   "execution_count": null,
   "id": "639bc8de",
   "metadata": {},
   "outputs": [],
   "source": [
    "#Cluster size set to 20000\n",
    "metabat2 -i ../prefab_files/co-assembly1.contigs-fixed.fa -a ../prefab_files/metabat_depth_co-assembly1.txt \\\n",
    "-o ../results/MetaBAT_s20000_bins/bin \\\n",
    "-s 20000\n",
    "\n",
    "export CHECKM_DATA_PATH=/scratch/genomics/stegmannt/metagenomes/first_data-CC-revisit/04_binning/data/DATABASE/\n",
    "checkm data setRoot /scratch/genomics/stegmannt/metagenomes/first_data-CC-revisit/04_binning/data/DATABASE/\n",
    "checkm lineage_wf -x fa -t 6 ../results/MetaBAT_s20000_bins ../results/MetaBAT_s20000_bins/bins-stats"
   ]
  },
  {
   "cell_type": "code",
   "execution_count": null,
   "id": "949c3488",
   "metadata": {},
   "outputs": [],
   "source": [
    "#Cluster size set to 5000\n",
    "metabat2 -i ../prefab_files/co-assembly1.contigs-fixed.fa -a ../prefab_files/metabat_depth_co-assembly1.txt \\\n",
    "-o ../results/MetaBAT_s5000_bins/bin \\\n",
    "-s 5000\n",
    "\n",
    "export CHECKM_DATA_PATH=/scratch/genomics/stegmannt/metagenomes/first_data-CC-revisit/04_binning/data/DATABASE/\n",
    "checkm data setRoot /scratch/genomics/stegmannt/metagenomes/first_data-CC-revisit/04_binning/data/DATABASE/\n",
    "checkm lineage_wf -x fa -t 6 ../results/MetaBAT_s5000_bins ../results/MetaBAT_s5000_bins/bins-stats"
   ]
  },
  {
   "cell_type": "code",
   "execution_count": null,
   "id": "32b2a6ad",
   "metadata": {},
   "outputs": [],
   "source": [
    "#Cluster size set to 50000\n",
    "metabat2 -i ../prefab_files/co-assembly1.contigs-fixed.fa -a ../prefab_files/metabat_depth_co-assembly1.txt \\\n",
    "-o ../results/MetaBAT_s50000_bins/bin \\\n",
    "-s 50000\n",
    "\n",
    "export CHECKM_DATA_PATH=/scratch/genomics/stegmannt/metagenomes/first_data-CC-revisit/04_binning/data/DATABASE/\n",
    "checkm data setRoot /scratch/genomics/stegmannt/metagenomes/first_data-CC-revisit/04_binning/data/DATABASE/\n",
    "checkm lineage_wf -x fa -t 6 ../results/MetaBAT_s50000_bins ../results/MetaBAT_s50000_bins/bins-stats"
   ]
  }
 ],
 "metadata": {
  "kernelspec": {
   "display_name": "Python 3",
   "language": "python",
   "name": "python3"
  },
  "language_info": {
   "codemirror_mode": {
    "name": "ipython",
    "version": 3
   },
   "file_extension": ".py",
   "mimetype": "text/x-python",
   "name": "python",
   "nbconvert_exporter": "python",
   "pygments_lexer": "ipython3",
   "version": "3.9.7"
  }
 },
 "nbformat": 4,
 "nbformat_minor": 5
}
