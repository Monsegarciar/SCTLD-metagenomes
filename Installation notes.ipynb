{
 "cells": [
  {
   "cell_type": "markdown",
   "id": "6172bf77",
   "metadata": {},
   "source": [
    "## Installation notes\n",
    "So, if you've come here that means you're interested in running this workflow and gain some information about coral microbiomes. I first was not gonna give this information, but I've been running into a few major issues which could be identified back to installation. Most of these issues can easily be fixed, but it takes some looking around, so I've been taking notes of the solutions so you don't have to scour the darkest reaches of the internet for the solution. "
   ]
  },
  {
   "cell_type": "markdown",
   "id": "b710a88d",
   "metadata": {},
   "source": [
    "#### Quality control\n",
    "Nothing to report here. Just install FastQC, Bowtie2, and samtools. FastQC does not install as 'normal' but through downloading a zip-file from the FastQC website. Bowtie2 and samtools can be installed through conda. I recommend doing the following (not necessary, but gets you in the habit that all steps have their own environment(s))."
   ]
  },
  {
   "cell_type": "code",
   "execution_count": 1,
   "id": "d300167a",
   "metadata": {},
   "outputs": [
    {
     "ename": "SyntaxError",
     "evalue": "invalid syntax (<ipython-input-1-882211c71eb0>, line 1)",
     "output_type": "error",
     "traceback": [
      "\u001b[0;36m  Input \u001b[0;32mIn [1]\u001b[0;36m\u001b[0m\n\u001b[0;31m    conda create -n quality\u001b[0m\n\u001b[0m          ^\u001b[0m\n\u001b[0;31mSyntaxError\u001b[0m\u001b[0;31m:\u001b[0m invalid syntax\n"
     ]
    }
   ],
   "source": [
    "conda create -n quality\n",
    "conda activate quality\n",
    "conda install -c bioconda bowtie2\n",
    "conda install -c bioconda samtools"
   ]
  },
  {
   "cell_type": "markdown",
   "id": "f2c944ac",
   "metadata": {},
   "source": [
    "#### Assembly\n",
    "Again, nothing new under the sun. Just ensure that you install MegaHIT and QUAST from conda:"
   ]
  },
  {
   "cell_type": "code",
   "execution_count": null,
   "id": "f079b9be",
   "metadata": {},
   "outputs": [],
   "source": [
    "conda create -n assembly\n",
    "conda activate assembly\n",
    "conda install -c bioconda megahit\n",
    "conda install -c bioconda quast"
   ]
  }
 ],
 "metadata": {
  "kernelspec": {
   "display_name": "Python 3",
   "language": "python",
   "name": "python3"
  },
  "language_info": {
   "codemirror_mode": {
    "name": "ipython",
    "version": 3
   },
   "file_extension": ".py",
   "mimetype": "text/x-python",
   "name": "python",
   "nbconvert_exporter": "python",
   "pygments_lexer": "ipython3",
   "version": "3.9.7"
  }
 },
 "nbformat": 4,
 "nbformat_minor": 5
}
