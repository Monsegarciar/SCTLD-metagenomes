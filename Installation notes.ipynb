{
 "cells": [
  {
   "cell_type": "markdown",
   "id": "6172bf77",
   "metadata": {},
   "source": [
    "## Installation notes\n",
    "So, if you've come here that means you're interested in running this workflow and gain some information about coral microbiomes. I first was not gonna give this information, but I've been running into a few major issues which could be identified back to installation. Most of these issues can easily be fixed, but it takes some looking around, so I've been taking notes of the solutions so you don't have to scour the darkest reaches of the internet for the solution. "
   ]
  },
  {
   "cell_type": "markdown",
   "id": "b710a88d",
   "metadata": {},
   "source": [
    "#### Quality control\n",
    "Nothing to report here. Just install FastQC, Bowtie2, and samtools. FastQC does not install as 'normal' but through downloading a zip-file from the FastQC website. Bowtie2 and samtools can be installed through conda. I recommend doing the following (not necessary, but gets you in the habit that all steps have their own environment(s))."
   ]
  },
  {
   "cell_type": "code",
   "execution_count": null,
   "id": "f16104e4",
   "metadata": {},
   "outputs": [],
   "source": [
    "conda create -n quality\n",
    "conda activate quality\n",
    "conda install -c bioconda bowtie2\n",
    "conda install -c bioconda samtools\n",
    "conda install -c bioconda fastqc\n",
    "conda install -c bioconda trimmomatic\n",
    "conda install -c bioconda illumina-utils #you can also install this one with pip"
   ]
  },
  {
   "cell_type": "markdown",
   "id": "f644db05",
   "metadata": {},
   "source": [
    "There are some errors that can occur with this module:\n",
    "\n",
    "* samtools can sometimes lose access to an important library. This is usually when you install another program which has samtools listed as a dependency and then overwrites it with an older version. Re-installing samtools usually works or forcing an update through conda\n"
   ]
  },
  {
   "cell_type": "markdown",
   "id": "f2c944ac",
   "metadata": {},
   "source": [
    "#### Assembly\n",
    "Again, nothing new under the sun. Just ensure that you install MegaHIT and QUAST from conda:"
   ]
  },
  {
   "cell_type": "code",
   "execution_count": null,
   "id": "f079b9be",
   "metadata": {},
   "outputs": [],
   "source": [
    "conda create -n assembly\n",
    "conda activate assembly\n",
    "conda install -c bioconda megahit\n",
    "conda install -c bioconda quast\n",
    "\n",
    "#BBTools must be compiled from source:\n",
    "#is that true? I forgot, djammit"
   ]
  },
  {
   "cell_type": "markdown",
   "id": "2b5b4321",
   "metadata": {},
   "source": [
    "#### Binning\n"
   ]
  },
  {
   "cell_type": "code",
   "execution_count": null,
   "id": "4d14ecc8",
   "metadata": {},
   "outputs": [],
   "source": [
    "conda create -n binning\n",
    "conda activate binning\n",
    "conda install -c bioconda metabat2\n",
    "conda install -c bioconda concoct\n",
    "conda install -c bioconda DAS_tool #change to bin_refiner\n",
    "conda install -c bioconda checkm-genome\n",
    "\n",
    "#you also have to compile the CheckM database from: https://data.ace.uq.edu.au/public/CheckM_databases/\n",
    "#upload where you want it and then decompress the database\n",
    "export CHECKM_DATA_PATH=/path/to/my_checkm_data\n",
    "checkm data setRoot <checkm_data_dir>"
   ]
  },
  {
   "cell_type": "markdown",
   "id": "5e96429c",
   "metadata": {},
   "source": [
    "There are 2 bad kids in the playground this time:\n",
    "\n",
    "* CONCOCT relies on samtools and the conda package downloads an older version. This means that samtools is somehow compromised. You need to either force an update through conda or re-install samtools in the environment\n",
    "\n",
    "* CheckM has trouble remembering where you stored the database. Every time you re-start your shell, you'll have to 'export' and 'setRoot' again. Very annoying, but the easiest thing is to just incorporate it in your scripts"
   ]
  },
  {
   "cell_type": "code",
   "execution_count": null,
   "id": "d391bfa8",
   "metadata": {},
   "outputs": [],
   "source": []
  }
 ],
 "metadata": {
  "kernelspec": {
   "display_name": "Python 3",
   "language": "python",
   "name": "python3"
  },
  "language_info": {
   "codemirror_mode": {
    "name": "ipython",
    "version": 3
   },
   "file_extension": ".py",
   "mimetype": "text/x-python",
   "name": "python",
   "nbconvert_exporter": "python",
   "pygments_lexer": "ipython3",
   "version": "3.9.7"
  }
 },
 "nbformat": 4,
 "nbformat_minor": 5
}
