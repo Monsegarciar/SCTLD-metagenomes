{
 "cells": [
  {
   "cell_type": "markdown",
   "id": "476ce3a7",
   "metadata": {},
   "source": [
    "## *De novo* assembly \n",
    "This piece of code deals with the generation of contigs from the quality trimmed reads from the Illumina sequencer. It is a memory intensive process and will take quite some time, even with a powerful computing cluster at your fingertips. For assembly, two pieces of software are used:\n",
    "\n",
    "* MegaHIT: https://github.com/voutcn/megahit\n",
    "* QUAST: http://quast.sourceforge.net/\n",
    "\n",
    "MegaHIT has quite a few options on how to perform the assembly, so it is recommended to familiarize yourself with their options and the way the software works."
   ]
  },
  {
   "cell_type": "markdown",
   "id": "19dba421",
   "metadata": {},
   "source": [
    "#### MegaHIT\n",
    "For MegaHIT, nothing beside the quality-trimmed reads from the quality control is required. Do realise that assembly is fairly sensitive to adapters still being present, so if this step is not yet performed, then this is a must before continuing. If MegaHIT exits without providing you an exit code, try re-starting the run with the second bit of code."
   ]
  },
  {
   "cell_type": "code",
   "execution_count": 1,
   "id": "6b745876",
   "metadata": {},
   "outputs": [
    {
     "ename": "SyntaxError",
     "evalue": "invalid syntax (<ipython-input-1-0a7394b13c60>, line 1)",
     "output_type": "error",
     "traceback": [
      "\u001b[0;36m  Input \u001b[0;32mIn [1]\u001b[0;36m\u001b[0m\n\u001b[0;31m    megahit --presets meta-large \\\u001b[0m\n\u001b[0m                      ^\u001b[0m\n\u001b[0;31mSyntaxError\u001b[0m\u001b[0;31m:\u001b[0m invalid syntax\n"
     ]
    }
   ],
   "source": [
    "megahit --presets meta-large \\\n",
    "-1 /scratch/genomics/stegmannt/metagenomes/first_data-CC/01_quality/data/results/reads_cat_R1.fastq \\\n",
    "-2 /scratch/genomics/stegmannt/metagenomes/first_data-CC/01_quality/data/results/reads_cat_R2.fastq \\\n",
    "-o ../data/working/co_assembly_1 --out-prefix co-assembly_species\n",
    "\n",
    "#in this, --meta-large indicates to MegaHIT that it is working with a complex sample, and thus will judge contigs more strictly"
   ]
  },
  {
   "cell_type": "code",
   "execution_count": null,
   "id": "e9762085",
   "metadata": {},
   "outputs": [],
   "source": [
    "megahit --continue --presets meta-large \\\n",
    "-1 /scratch/genomics/stegmannt/metagenomes/first_data-CC/01_quality/data/results/reads_cat_R1.fastq \\\n",
    "-2 /scratch/genomics/stegmannt/metagenomes/first_data-CC/01_quality/data/results/reads_cat_R2.fastq \\\n",
    "-o ../data/working/co_assembly_1 --out-prefix co-assembly_species \\#it is important to set this directory right\n",
    "-t $NSLOTS\n",
    "-m 0.9"
   ]
  },
  {
   "cell_type": "markdown",
   "id": "855f543a",
   "metadata": {},
   "source": [
    "Sometimes, MegaHIT will create 'bloated' assemblies from the metadata. This is often the case for complex microbiomes where some important metabolic partners are sequenced at low depth (MegaHIT needs about 9.2x coverage to accurately re-assemble the parts). There is no hard solution for this, but something that might work is normalizing the reads with BBNorm:"
   ]
  },
  {
   "cell_type": "code",
   "execution_count": null,
   "id": "5a32ecde",
   "metadata": {},
   "outputs": [],
   "source": [
    "#make sure Java version 7 or higher is active! Otherwise this will not work!\n",
    "bbnorm.sh in=../../01_quality/data/results/ALL_reads_R1.fq out=../../01_quality/data/results/reads_norm/ALL_normalized_R2.fq target=70 min=5\n",
    "bbnorm.sh in=../../01_quality/data/results/ALL_reads_R2.fq out=../../01_quality/data/results/reads_norm/ALL_normalized_R2.fq target=70 min=5"
   ]
  },
  {
   "cell_type": "code",
   "execution_count": null,
   "id": "e8f90330",
   "metadata": {},
   "outputs": [],
   "source": [
    "#alternatively, this is also an option:\n",
    "bbcms.sh mincount=2 highcountfraction=0.6"
   ]
  },
  {
   "cell_type": "markdown",
   "id": "41f4df2d",
   "metadata": {},
   "source": [
    "#### QUAST\n",
    "QUAST executes a quality control for your contigs. This is also a good indicator whether a set of contigs is going to be of use to you. If there are very few large contigs (>1000), binning may not work very well. "
   ]
  },
  {
   "cell_type": "code",
   "execution_count": 1,
   "id": "44031458",
   "metadata": {},
   "outputs": [
    {
     "ename": "SyntaxError",
     "evalue": "invalid syntax (<ipython-input-1-b9de1fa3c92f>, line 1)",
     "output_type": "error",
     "traceback": [
      "\u001b[0;36m  Input \u001b[0;32mIn [1]\u001b[0;36m\u001b[0m\n\u001b[0;31m    quast ../data/working/co_assembly_1/co-assembly_species.contigs.fa -o ../data/results/quast_output_co-assembly\u001b[0m\n\u001b[0m           ^\u001b[0m\n\u001b[0;31mSyntaxError\u001b[0m\u001b[0;31m:\u001b[0m invalid syntax\n"
     ]
    }
   ],
   "source": [
    "quast ../data/working/co_assembly_1/co-assembly_species.contigs.fa -o ../data/results/quast_output_co-assembly"
   ]
  },
  {
   "cell_type": "markdown",
   "id": "769c02d0",
   "metadata": {},
   "source": [
    "#### Deflines and size\n",
    "For binning, only contigs over 1000 basepairs can be considered. This is due to the fact that most binning softwares rely on the use of k-mers, and smaller sizes don't give an accurate k-mer signature for k-step =4. So, the following piece of code uses scripts from Anvi'O to do two things: fix the deflines of your contigs, so Anvi'O can use them (and makes them nice and uniform), and *remove* all contigs that are under 1000 bp. It is strongly recommended to save your contigs, so you can be sure to go back to them if you decide to go another direction with this. "
   ]
  },
  {
   "cell_type": "code",
   "execution_count": 2,
   "id": "63747472",
   "metadata": {},
   "outputs": [
    {
     "ename": "SyntaxError",
     "evalue": "invalid syntax (<ipython-input-2-dc09bcf27e0c>, line 1)",
     "output_type": "error",
     "traceback": [
      "\u001b[0;36m  Input \u001b[0;32mIn [2]\u001b[0;36m\u001b[0m\n\u001b[0;31m    anvi-script-reformat-fasta contigs.fa -o contigs-fixed.fa -l 1000 --simplify-names\u001b[0m\n\u001b[0m                               ^\u001b[0m\n\u001b[0;31mSyntaxError\u001b[0m\u001b[0;31m:\u001b[0m invalid syntax\n"
     ]
    }
   ],
   "source": [
    "anvi-script-reformat-fasta co-assembly_species.contigs.fa -o .co-assembly_species.contigs-fixed.fa -l 1000 --simplify-names"
   ]
  },
  {
   "cell_type": "markdown",
   "id": "3e1c7b09",
   "metadata": {},
   "source": [
    "### Mapping\n",
    "Mapping is actually its own operation, regardless of what you do above. It is also, too little to warrant its own notebook. Mapping means re-aligning your reads back to your contigs using an aligner like Bowtie2, BWA, or something with the same funcitonalities. In this, it is important to always map the reads you used to the contigs that you generated (and later filtered). Use the following code:"
   ]
  },
  {
   "cell_type": "code",
   "execution_count": null,
   "id": "5a6b560b",
   "metadata": {},
   "outputs": [],
   "source": [
    "bowtie2-build ../../02_assembly/results/co-assembly_species.contigs-fixed.fa ../data/working/species_contigs\n",
    "#this builds an index of your contigs, which only needs to happen once\n",
    "\n",
    "for f in <sample1> <sample2> <sample4> <sample5>\n",
    "bowtie2 --threads $NSLOTS -x ../data/working/species_contigs -1 ../../01_quality/data/results/\"$f\"_R1.fastq -2 ../../01_quality/data/results/\"$f\"_R2.fastq -S ../data/working/\"$f\".sam\n",
    "#this creates an alignment of your reads to your contigs and collects that in a .sam file\n",
    "\n",
    "samtools view -F 4 -bS 03_mapping/data/working/\"$f\".sam > 03_mapping/\"$f\"-RAW.bam\n",
    "#this converts your sam file to a bam file, but its neither sorted nor indexed, so we use an Anvi'O script to do so:\n",
    "\n",
    "anvi-init-bam 03_mapping/data/working/Sample_01-RAW.bam -o 03_mapping/data/results/Sample_01.bam\n",
    "#as said, this is how you index and sort your bam file\n",
    "\n",
    "rm 03_mapping/data/working/\"$f\".sam 03_mapping/data/working/\"$f\"-RAW.bam\n",
    "#to prevent confusion, remove the RAW file"
   ]
  }
 ],
 "metadata": {
  "kernelspec": {
   "display_name": "Python 3",
   "language": "python",
   "name": "python3"
  },
  "language_info": {
   "codemirror_mode": {
    "name": "ipython",
    "version": 3
   },
   "file_extension": ".py",
   "mimetype": "text/x-python",
   "name": "python",
   "nbconvert_exporter": "python",
   "pygments_lexer": "ipython3",
   "version": "3.9.7"
  }
 },
 "nbformat": 4,
 "nbformat_minor": 5
}
