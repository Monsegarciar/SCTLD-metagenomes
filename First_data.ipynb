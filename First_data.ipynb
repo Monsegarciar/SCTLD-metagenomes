{
  "metadata": {
    "language_info": {
      "name": ""
    },
    "kernelspec": {
      "name": "",
      "display_name": ""
    }
  },
  "nbformat_minor": 4,
  "nbformat": 4,
  "cells": [
    {
      "cell_type": "code",
      "source": "\n",
      "metadata": {},
      "execution_count": null,
      "outputs": []
    }
  ]
}
# /bin/sh 
# ----------------Parameters---------------------- #
#$  -S /bin/sh
#$ -q sThC.q
#$ -l mres=8G,h_data=8G,h_vmem=8G
#$ -l cpu_arch='haswell|skylake'
#$ -cwd
#$ -j y
#$ -N fastqc_unrefined_v1
#$ -o ../logs/fastqc_unrefined_v1.log
#
# ----------------Modules------------------------- #
module load bioinformatics/fastqc
#
# ----------------Your Commands------------------- #
#
echo + `date` job $JOB_NAME started in $QUEUE with jobID=$JOB_ID on $HOSTNAME
#
fastqc /scratch/genomics/stegmannt/metagenomes/first_data/00_raw/*.fq \
--outdir=../data/results
#
echo = `date` job $JOB_NAME done
