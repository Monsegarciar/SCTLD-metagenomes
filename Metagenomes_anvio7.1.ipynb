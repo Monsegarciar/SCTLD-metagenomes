{
 "cells": [
  {
   "cell_type": "markdown",
   "id": "d47b595a",
   "metadata": {},
   "source": [
    "## Anvi'O 7.1\n",
    "Anvi'O is a powerful piece of software in metagenomics and takes an odd place in the workflow of this project. It is both a binning software and a visualization strategy. I will clearly write down what goes where, but be aware that of all the software presented here, Anvi'O is quite likely the most powerful but has the steepest learning curve. It expects a great deal of foreknowledge, so be highly aware of that. If you want to read up on the software, they publish a lot of its functionality on their website:\n",
    "\n",
    " https://anvio.org/\n",
    "\n",
    "For now, know that the Anvi'O workflow consists of three separate pieces:\n",
    "\n",
    "* Contig profiling: this creates a database of your contigs and does part of the binning for you\n",
    "* Single profiling: this creates a database of your reads matched with your contigs\n",
    "* Processing: this is where Anvi'O becomes powerful. You can collect all the data from previous workflows and start defining your findings in Anvi'O (taxonomy, representation, etc.)\n",
    "\n",
    "This last step is clearly more oriented towards results interpretation, while the first two are more geared towards data generation. The workflow file that is on this GitHub should show you clearly how to work this data!"
   ]
  },
  {
   "cell_type": "markdown",
   "id": "822c2fd3",
   "metadata": {},
   "source": [
    "## Contig profiling\n",
    "Contig profiling creates a database of your contigs. It calculates k-mer frequencies for your sample (standard k-setting is 4, which you can change with the --kmer-size parameter (DON'T unless you have a good reason)), soft splits long contigs, and identifies open reading frames (which can be skipped using --skip-gene-calling). Run the following code to generate your database:\n",
    "\n",
    "Subsequently, you can add various elements of analysis to your contig profile. The following list is available:\n",
    "* Augustus + Prodigal gene calls: adds open reading frames to your dataset from the genes from the Augustus database (eukaryotes) and Prodigal (bacteria + archaea) WORKING ON THIS: NOT SURE IF IT WORKS\n",
    "\n",
    "* Hidden Markov Model (HMM): A widely used prediction model in bioinformatics software, which can offer great advantages in homology detection. \n",
    "\n",
    "* NCBI's Cluster of Orthologous genes (NCBI COG): this allows you to annotate your database with gene functions from NCBI COG. Current version: 2020\n",
    "\n",
    "* KoFAM Metabolism calls: Uses the KEGG database to call metabolic genes and estimate paths of your community. Currently used KEGG version is KEGG_build_2020-12-23. \n",
    "\n",
    "* Kaiju Taxonomy calls: \n",
    "\n",
    "\n",
    "Each of these adds a new layer of information to your dataset, so might be very interesting to explore.\n"
   ]
  },
  {
   "cell_type": "code",
   "execution_count": null,
   "id": "5cb24b90",
   "metadata": {},
   "outputs": [],
   "source": [
    "#set parameters:\n",
    "$SAMPLENAME=samplename\n",
    "$CONTIGPATH=/path/to/contigs/\n",
    "$DATABASE=databasename\n",
    "$COGPATH=/path/to/NCBI-COG/database\n",
    "\n",
    "[ -d $CONTIGPATH ] || { echo 'Invalid path to contigs, exiting.' && done}\n",
    "[ -d $COGPATH ] || { echo 'Invalid path to NCBI COG database, exiting.' && done }\n",
    "\n",
    "#generate the contigs database:\n",
    "anvi-gen-contigs-database -f $CONTIGPATH/co-assembly1.contigs.fa -o ../data/working/$SAMPLENAME.contigs.db -n $DATABASE || { echo 'Exit code 1: Unable to create contigs database, exiting.' && done}\n",
    "\n",
    "#integrate HMMs into the database:\n",
    "anvi-run-hmms -c ../data/working/$SAMPLENAME.contigs.db || echo 'WARNING: Unable to add HMMs to contigs database, continuing'\n",
    "\n",
    "#this runs NCBI COGs against your contigs.db, integrating gene functions.\n",
    "anvi-run-ncbi-cogs -c ../data/working/$SAMPLENAME.contigs.db  --cog-data-dir $COGDIR || echo 'WARNING: Unable to run NCBI COGs, continuing'\n",
    "\n",
    "#ADD KEGG-KOFAM\n",
    "anvi-run-kegg-kofams -c ../data/working/CONTIGS.db \\\n",
    "                     -T 4 #these are the threads that Anvi'O is allowed to use\n",
    "#ADD CONTIG STATS\n",
    "anvi-display-contigs-stats \"$f\".contigs.db --report-as-text --as-markdown -o ../data/results/\"$f\"_contigstats.md"
   ]
  },
  {
   "cell_type": "markdown",
   "id": "55884a2f",
   "metadata": {},
   "source": [
    "After creating your HMMs, you can now look at your contig stats. This is the first part of Anvi'O that is interactive, so you now have to be careful. If you are running this workflow on a computing cluster, you are unlikely to be able to run the interactive mode (most computing clusters aren't set out to be visual). If you want the full Anvi'O experience, you can download the database on your local device, run Anvi'O on it as normal, and get the interactive output. For a full explanation of results, consult this page: \n",
    "\n",
    "https://anvio.org/help/main/programs/anvi-display-contigs-stats/\n",
    "\n",
    "If you choose to remain in the cluster environment, you can get the stats as .txt or .md output and see what's in there. "
   ]
  },
  {
   "cell_type": "code",
   "execution_count": 5,
   "id": "d3451fba",
   "metadata": {},
   "outputs": [
    {
     "ename": "SyntaxError",
     "evalue": "invalid syntax (<ipython-input-5-dbd2ad518711>, line 1)",
     "output_type": "error",
     "traceback": [
      "\u001b[0;36m  Input \u001b[0;32mIn [5]\u001b[0;36m\u001b[0m\n\u001b[0;31m    anvi-display-contigs-stats \"$f\".contigs-db --report-as-text --as-markdown -o ../data/results/\"$f\"_contigstats.md\u001b[0m\n\u001b[0m                               ^\u001b[0m\n\u001b[0;31mSyntaxError\u001b[0m\u001b[0;31m:\u001b[0m invalid syntax\n"
     ]
    }
   ],
   "source": [
    "\n",
    "    \n",
    "# Alternatively, you could download your contigs database onto your local computer and run it as follows:\n",
    "anvi-display-contigs-stats \"$f\".contigs.db"
   ]
  },
  {
   "cell_type": "markdown",
   "id": "01a29dbe",
   "metadata": {},
   "source": [
    "#### Jaeger module\n",
    "The Jaeger module uses Kaiju to perform taxonomic gene calls on your contigs database. What is important to realise is that this is not overly reliable. It may however, guide your hand in binning somewhat and make things clearer later down the line. You first have to select and create your Kaiju database, as provided in the Kaiju documentation: https://github.com/bioinformatics-centre/kaiju. You can then call the Kaiju taxonomy and subsequently import them into Anvi'O."
   ]
  },
  {
   "cell_type": "code",
   "execution_count": null,
   "id": "a8584fb3",
   "metadata": {},
   "outputs": [],
   "source": [
    "anvi-get-sequences-for-gene-calls -c CONTIGS.db -o gene_calls.fa\n",
    "\n",
    "kaiju -t /path/to/nodes.dmp \\\n",
    "      -f /path/to/kaiju_db.fmi \\\n",
    "      -i gene_calls.fa \\\n",
    "      -o gene_calls_nr.out \\\n",
    "      -z 16 \\\n",
    "      -v\n",
    "\n",
    "addTaxonNames -t /path/to/nodes.dmp \\\n",
    "              -n /path/to/names.dmp \\\n",
    "              -i gene_calls_nr.out \\\n",
    "              -o gene_calls_nr.names \\\n",
    "              -r superkingdom,phylum,order,class,family,genus,species\n",
    "\n",
    "anvi-import-taxonomy-for-genes -i gene_calls_nr.names \\\n",
    "                               -c contigs.db \\\n",
    "                               -p kaiju \\\n",
    "                            --just-do-it\n"
   ]
  },
  {
   "cell_type": "markdown",
   "id": "20d21999",
   "metadata": {},
   "source": [
    "#### KoFAM KEGG estimate metabolism\n",
    "This piece of code first sets up the KEGG database and then calls genes with KoFAM and KEGG. After that, you can execute metabolism calls. For more information, look at https://merenlab.org/tutorials/fmt-mag-metabolism/"
   ]
  },
  {
   "cell_type": "code",
   "execution_count": null,
   "id": "f4e76748",
   "metadata": {},
   "outputs": [],
   "source": [
    "anvi-setup-kegg-kofams --kegg-data-dir path/to/kegg #you only need the last bit if you do not have write access to the Anvi'O directory"
   ]
  },
  {
   "cell_type": "code",
   "execution_count": null,
   "id": "93886317",
   "metadata": {},
   "outputs": [],
   "source": [
    "anvi-estimate-metabolism -c CONTIGS.db -p PROFILE.db -C DAS_collection"
   ]
  },
  {
   "cell_type": "markdown",
   "id": "ebcaf274",
   "metadata": {},
   "source": [
    "## Single profiling\n",
    "Other than the contig file, the profile that is about to be generated contains information about your contigs, based on the results of your mapping step. Each database links to a contig database. Its important to make sure that all the profiles that you are generating are generated using the same parameters, since you're quite likely to *merge* them later. For more information on profiling:\n",
    "\n",
    "https://anvio.org/help/main/programs/anvi-profile/\n",
    "\n",
    "To work any further with Anvi'O, you need to merge your profiles into a single profile. There is more to this step, but that is all very neatly explained here:\n",
    "\n",
    "https://anvio.org/help/main/programs/anvi-merge/\n",
    "\n",
    "Anvi'O no longer bins results on its own. You can ask it to, but it will use the same algorithms as above. So therefore, you might just want to do it manually, as you can oversee your results a little better. You need to provide your binning results as a tab-delimited text file, where each contig name is assigned a bin (they can also be left out). In the binning_refiner script a few lines of code are already there that create a text file that should be working with your contigs.db that you generated earlier.\n"
   ]
  },
  {
   "cell_type": "code",
   "execution_count": null,
   "id": "4b2e94d5",
   "metadata": {},
   "outputs": [],
   "source": [
    "#set parameters:\n",
    "MAPPINGPATH=/path/to/mapping/files\n",
    "CONTIGSDBPATH=/path/to/contigs.db\n",
    "SAMPLENAME=samplename\n",
    "COLLECTION=collection_name\n",
    "COLLECTIONPATH=/path/to/collection/txt\n",
    "\n",
    "[ -d $CONTIGSDBPATH ] || { echo 'Invalid path to contigs database, exiting.' && exit }\n",
    "[ -d $MAPPINGPATH ] || { echo 'Invalid path to contigs database, exiting.' && exit }\n",
    "#this runs the single profiling step:\n",
    "for f in <sample1> <sample2> <sample3> <sample4>\n",
    "do\n",
    "rm -r ../data/working/\"$SAMPLENAME\"_profiles || echo 'Everything okay, passed the test'\n",
    "anvi-profile -i $MAPPINGPATH/\"$f\".bam -c $CONTIGSDBPATH/\"$SAMPLENAME\".contigs.db \\\n",
    "--min-contig-length 1000 \\\n",
    "--output-dir ../data/working/\"$SAMPLENAME\"_profiles/\"$f\" \\\n",
    "--sample-name \"$f\"_singleprofile\n",
    "done\n",
    "\n",
    "#needs a check whether all samples are there\n",
    "\n",
    "#merge the profiles into a single profile for your samples\n",
    "anvi-merge ../data/working/\"$SAMPLENAME\"_profiles/Coral*/PROFILE.db \\\n",
    "-o ../data/results/anvi-profile_\"$SAMPLENAME\"/ \\\n",
    "-c $CONTIGSDBPATH/\"$SAMPLENAME\".contigs.db \\\n",
    "-S $SAMPLENAME \n",
    "\n",
    "#import your binning results from DAS_tool\n",
    "anvi-import-collection \"$SAMPLENAME\"_collection.txt \\\n",
    "-p ../data/results/anvi-profile_\"$SAMPLENAME\"/PROFILE_$SAMPLENAME.db \\\n",
    "-c $CONTIGSDBPATH/$SAMPLENAME.contigs.db \\\n",
    "--contigs-mode \\\n",
    "-C $COLLECTION"
   ]
  },
  {
   "cell_type": "markdown",
   "id": "391d69ce",
   "metadata": {},
   "source": [
    "##### Taxonomy estimates\n",
    "Assessing the taxonomy of your bins can be very helpful in the long run, when you do manual binning combined with your automated binning. There are two ways of calling taxonomy on your samples: using Anvi'O SCG taxonomy and using Kaiju. I have done both, since they take a slightly different approach. Additionally, while SCG taxonomy is great, Anvi'O only uses bacterial and archaea genomes to do taxonomy calling, leaving a host of important organisms out. Kaiju can help you later in assessing the quality of your bins and seeing what belongs where. Use the following links to get a little streetwise in this step:\n",
    "\n",
    "Kaiju: https://github.com/bioinformatics-centre/kaiju\n",
    "\n",
    "Anvi'O taxonomy: https://merenlab.org/2019/10/08/anvio-scg-taxonomy/\n",
    "\n",
    "Combining Anvi'O with Kaiju: https://merenlab.org/2016/06/18/importing-taxonomy/"
   ]
  },
  {
   "cell_type": "code",
   "execution_count": null,
   "id": "9cd71e33",
   "metadata": {},
   "outputs": [],
   "source": [
    "#this runs the Anvi'O SCG script:\n",
    "anvi-run-scg-taxonomy -c ../data/working/contigs.db\n",
    "#and this allows you to integrate said information with your profiles and your bins\n",
    "anvi-estimate-scg-taxonomy -c ../data/working/contigs.db \\\n",
    "                           -p ../data/working/<name>/PROFILE.db \\\n",
    "                           -C <Collection name>"
   ]
  },
  {
   "cell_type": "markdown",
   "id": "b6675344",
   "metadata": {},
   "source": [
    "### Data interpretation\n"
   ]
  },
  {
   "cell_type": "markdown",
   "id": "6349b8aa",
   "metadata": {},
   "source": [
    "Before you run the interactive interface, you will want to integrate some information into your collection, or \"populate\" it with information. The following script uses several things already included into your databases to do exactly that. Some of these lines will create separate files which will help with the interpretation of the data, while some will show up in the interface. "
   ]
  },
  {
   "cell_type": "code",
   "execution_count": null,
   "id": "6c8b21bf",
   "metadata": {},
   "outputs": [],
   "source": [
    "anvi-estimate-metabolism -c CONTIGS.db -p PROFILE.db -C DAS_collection"
   ]
  },
  {
   "cell_type": "markdown",
   "id": "1e808c12",
   "metadata": {},
   "source": [
    "One of the more powerful features of Anvi'O is the interactive interface. For this to work, you'll probably need to download your contigs database and your merged profile to run this. Alternatively, you can run Anvi'O off the computing cluster you have been working on, which is super useful if you just want to take a quick peek!\n",
    "\n",
    "https://merenlab.org/2015/11/28/visualizing-from-a-server/\n"
   ]
  },
  {
   "cell_type": "code",
   "execution_count": null,
   "id": "bd5caef9",
   "metadata": {},
   "outputs": [],
   "source": [
    "  anvi-interactive -p profile-db \\\n",
    "                 -c contigs-db \\\n",
    "                 -C collection #run this if you specifically want to run your bins in the interface"
   ]
  },
  {
   "cell_type": "markdown",
   "id": "d246ae61",
   "metadata": {},
   "source": [
    "Anvi'O will automatically try and open your browser at this point (not if you are running it from the server). If your browser doesn't pop up, try entering this into ~Chrome~ your browser:\n",
    "\n",
    "http://localhost:8080\n",
    "\n",
    "Which should show you the results! You can kill the session at any moment by entering CTRL+C in the command line. This tutorial shows you some of the power of the interactive interface:\n",
    "https://merenlab.org/tutorials/interactive-interface/"
   ]
  },
  {
   "cell_type": "code",
   "execution_count": null,
   "id": "b897ce29",
   "metadata": {},
   "outputs": [],
   "source": [
    "#this line should allow you to add metadata to your samples:\n",
    "anvi-import-misc-data ../data/working/metadata.txt \\ #see below!\n",
    "                         --target-data-table layers \\\n",
    "                         --pan-or-profile-db ../data/working/<samplename>.profile.db"
   ]
  },
  {
   "cell_type": "markdown",
   "id": "95865f03",
   "metadata": {},
   "source": [
    "Using this piece of code, you can insert metadata in your Anvi'O graph. Super useful, but take into account that you need to adhere to some principles: \n",
    "\n",
    "* This is a tab-deliminated text file containing information about the samples you're displaying\n",
    "* The first column should match the name of the samples for each row\n",
    "* The following columns can contain all sorts of information\n",
    "\n",
    "https://anvio.org/help/main/programs/anvi-import-misc-data/"
   ]
  },
  {
   "cell_type": "code",
   "execution_count": null,
   "id": "3bf0b65a",
   "metadata": {},
   "outputs": [],
   "source": []
  }
 ],
 "metadata": {
  "kernelspec": {
   "display_name": "Python 3",
   "language": "python",
   "name": "python3"
  },
  "language_info": {
   "codemirror_mode": {
    "name": "ipython",
    "version": 3
   },
   "file_extension": ".py",
   "mimetype": "text/x-python",
   "name": "python",
   "nbconvert_exporter": "python",
   "pygments_lexer": "ipython3",
   "version": "3.9.7"
  }
 },
 "nbformat": 4,
 "nbformat_minor": 5
}
