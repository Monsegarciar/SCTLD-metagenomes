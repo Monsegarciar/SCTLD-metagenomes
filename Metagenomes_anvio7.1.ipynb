{
 "cells": [
  {
   "cell_type": "markdown",
   "id": "aa0d348c",
   "metadata": {},
   "source": [
    "## Anvi'O 7.1\n",
    "Anvi'O is a powerful piece of software in metagenomics and takes an odd place in the workflow of this project. It is both a binning software and a visualization strategy. I will clearly write down what goes where, but be aware that of all the software presented here, Anvi'O is quite likely the most powerful but has the steepest learning curve. It expects a great deal of foreknowledge, so be highly aware of that. If you want to read up on the software, they publish a lot of its functionality on their website:\n",
    "\n",
    " https://anvio.org/\n",
    "\n",
    "For now, know that the Anvi'O workflow consists of three separate pieces:\n",
    "\n",
    "* Contig profiling: this creates a database of your contigs and does part of the binning for you\n",
    "* Single profiling: this creates a database of your reads matched with your contigs\n",
    "* Processing: this is where Anvi'O becomes powerful. You can collect all the data from previous workflows and start defining your findings in Anvi'O (taxonomy, representation, etc.)\n",
    "\n",
    "This last step is clearly more oriented towards results interpretation, while the first two are more geared towards data generation. The workflow file that is on this GitHub should show you clearly how to work this data!"
   ]
  },
  {
   "cell_type": "markdown",
   "id": "e4d13957",
   "metadata": {},
   "source": [
    "#### Contig profiling\n",
    "Contig profiling creates a database of your contigs *per sample*. It calculates k-mer frequencies for your sample (standard k-setting is 4, which you can change with the --kmer-size parameter (DON'T unless you have a good reason)), soft splits long contigs, and identifies open reading frames (which can be skipped using --skip-gene-calling). Run the following code to generate your database:\n"
   ]
  },
  {
   "cell_type": "code",
   "execution_count": 1,
   "id": "760df20d",
   "metadata": {},
   "outputs": [
    {
     "ename": "SyntaxError",
     "evalue": "invalid syntax (<ipython-input-1-d81846cd4e3a>, line 1)",
     "output_type": "error",
     "traceback": [
      "\u001b[0;36m  Input \u001b[0;32mIn [1]\u001b[0;36m\u001b[0m\n\u001b[0;31m    $ anvi-gen-contigs-database -f ../../02_assembly/contigs/\"$f\".contigs.fa -o ../data/working/\"$f\".contigs.db -n \"$f\"_contigs_database\u001b[0m\n\u001b[0m    ^\u001b[0m\n\u001b[0;31mSyntaxError\u001b[0m\u001b[0;31m:\u001b[0m invalid syntax\n"
     ]
    }
   ],
   "source": [
    "$ anvi-gen-contigs-database -f ../../02_assembly/contigs/\"$f\".contigs.fa -o ../data/working/\"$f\".contigs.db -n \"$f\"_contigs_database"
   ]
  },
  {
   "cell_type": "markdown",
   "id": "a1953250",
   "metadata": {},
   "source": [
    "##### HMMs"
   ]
  },
  {
   "cell_type": "code",
   "execution_count": null,
   "id": "b5bc008a",
   "metadata": {},
   "outputs": [],
   "source": [
    "$ anvi-run-hmms -c contigs.db"
   ]
  }
 ],
 "metadata": {
  "kernelspec": {
   "display_name": "Python 3",
   "language": "python",
   "name": "python3"
  },
  "language_info": {
   "codemirror_mode": {
    "name": "ipython",
    "version": 3
   },
   "file_extension": ".py",
   "mimetype": "text/x-python",
   "name": "python",
   "nbconvert_exporter": "python",
   "pygments_lexer": "ipython3",
   "version": "3.9.7"
  }
 },
 "nbformat": 4,
 "nbformat_minor": 5
}
