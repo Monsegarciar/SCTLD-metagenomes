{
 "cells": [
  {
   "cell_type": "markdown",
   "id": "d47b595a",
   "metadata": {},
   "source": [
    "## Anvi'O 7.1\n",
    "Anvi'O is a powerful piece of software in metagenomics and takes an odd place in the workflow of this project. It is both a binning software and a visualization strategy. I will clearly write down what goes where, but be aware that of all the software presented here, Anvi'O is quite likely the most powerful but has the steepest learning curve. It expects a great deal of foreknowledge, so be highly aware of that. If you want to read up on the software, they publish a lot of its functionality on their website:\n",
    "\n",
    " https://anvio.org/\n",
    "\n",
    "For now, know that the Anvi'O workflow consists of three separate pieces:\n",
    "\n",
    "* Contig profiling: this creates a database of your contigs and does part of the binning for you\n",
    "* Single profiling: this creates a database of your reads matched with your contigs\n",
    "* Processing: this is where Anvi'O becomes powerful. You can collect all the data from previous workflows and start defining your findings in Anvi'O (taxonomy, representation, etc.)\n",
    "\n",
    "This last step is clearly more oriented towards results interpretation, while the first two are more geared towards data generation. The workflow file that is on this GitHub should show you clearly how to work this data!"
   ]
  },
  {
   "cell_type": "markdown",
   "id": "822c2fd3",
   "metadata": {},
   "source": [
    "### Contig profiling\n",
    "Contig profiling creates a database of your contigs *per sample*. It calculates k-mer frequencies for your sample (standard k-setting is 4, which you can change with the --kmer-size parameter (DON'T unless you have a good reason)), soft splits long contigs, and identifies open reading frames (which can be skipped using --skip-gene-calling). Run the following code to generate your database:\n"
   ]
  },
  {
   "cell_type": "code",
   "execution_count": 6,
   "id": "4a2b4209",
   "metadata": {},
   "outputs": [
    {
     "ename": "SyntaxError",
     "evalue": "invalid syntax (<ipython-input-6-52b95cff961f>, line 1)",
     "output_type": "error",
     "traceback": [
      "\u001b[0;36m  Input \u001b[0;32mIn [6]\u001b[0;36m\u001b[0m\n\u001b[0;31m    anvi-gen-contigs-database -f ../../02_assembly/contigs/\"$f\".contigs.fa -o ../data/working/\"$f\".contigs.db -n \"$f\"_contigs_database\u001b[0m\n\u001b[0m                                  ^\u001b[0m\n\u001b[0;31mSyntaxError\u001b[0m\u001b[0;31m:\u001b[0m invalid syntax\n"
     ]
    }
   ],
   "source": [
    "anvi-gen-contigs-database -f ../../02_assembly/contigs/\"$f\".contigs.fa -o ../data/working/\"$f\".contigs.db -n \"$f\""
   ]
  },
  {
   "cell_type": "markdown",
   "id": "0891ddae",
   "metadata": {},
   "source": [
    "##### HMMs"
   ]
  },
  {
   "cell_type": "code",
   "execution_count": 4,
   "id": "28e41e0e",
   "metadata": {},
   "outputs": [
    {
     "ename": "SyntaxError",
     "evalue": "invalid syntax (<ipython-input-4-987f921eaeaf>, line 1)",
     "output_type": "error",
     "traceback": [
      "\u001b[0;36m  Input \u001b[0;32mIn [4]\u001b[0;36m\u001b[0m\n\u001b[0;31m    anvi-run-hmms -c ../data/working/\"$f\".contigs.db\u001b[0m\n\u001b[0m                      ^\u001b[0m\n\u001b[0;31mSyntaxError\u001b[0m\u001b[0;31m:\u001b[0m invalid syntax\n"
     ]
    }
   ],
   "source": [
    "anvi-run-hmms -c ../data/working/\"$f\".contigs.db"
   ]
  },
  {
   "cell_type": "markdown",
   "id": "55884a2f",
   "metadata": {},
   "source": [
    "##### Contig-stats\n",
    "After creating your HMMs, you can now look at your contig stats. This is the first part of Anvi'O that is interactive, so you now have to be careful. If you are running this workflow on a computing cluster, you are unlikely to be able to run the interactive mode (most computing clusters aren't set out to be visual). If you want the full Anvi'O experience, you can download the database on your local device, run Anvi'O on it as normal, and get the interactive output. For a full explanation of results, consult this page: \n",
    "\n",
    "https://anvio.org/help/main/programs/anvi-display-contigs-stats/\n",
    "\n",
    "If you choose to remain in the cluster environment, you can get the stats as .txt or .md output and see what's in there. "
   ]
  },
  {
   "cell_type": "code",
   "execution_count": 5,
   "id": "d3451fba",
   "metadata": {},
   "outputs": [
    {
     "ename": "SyntaxError",
     "evalue": "invalid syntax (<ipython-input-5-dbd2ad518711>, line 1)",
     "output_type": "error",
     "traceback": [
      "\u001b[0;36m  Input \u001b[0;32mIn [5]\u001b[0;36m\u001b[0m\n\u001b[0;31m    anvi-display-contigs-stats \"$f\".contigs-db --report-as-text --as-markdown -o ../data/results/\"$f\"_contigstats.md\u001b[0m\n\u001b[0m                               ^\u001b[0m\n\u001b[0;31mSyntaxError\u001b[0m\u001b[0;31m:\u001b[0m invalid syntax\n"
     ]
    }
   ],
   "source": [
    "anvi-display-contigs-stats \"$f\".contigs.db --report-as-text --as-markdown -o ../data/results/\"$f\"_contigstats.md\n",
    "    \n",
    "# Alternatively, you could download your contigs database onto your local computer and run it as follows:\n",
    "anvi-display-contigs-stats \"$f\".contigs.db"
   ]
  },
  {
   "cell_type": "markdown",
   "id": "1a805baa",
   "metadata": {},
   "source": [
    "##### NCBI C.O.G.s\n",
    "This allows you to match your contig database against the NCBI Cluster of Orthologous Genes database. To do so, you first need to set up this database. You will want to be careful where you set this up, as this is important for actually using it. Once its set up, you probably will not need to do it again. Just make sure it stays up to date with how COG looks every once in a while (current version is COG20). "
   ]
  },
  {
   "cell_type": "code",
   "execution_count": 7,
   "id": "e4d420ad",
   "metadata": {},
   "outputs": [
    {
     "ename": "SyntaxError",
     "evalue": "invalid decimal literal (<ipython-input-7-3430689d7771>, line 1)",
     "output_type": "error",
     "traceback": [
      "\u001b[0;36m  Input \u001b[0;32mIn [7]\u001b[0;36m\u001b[0m\n\u001b[0;31m    anvi-setup-ncbi-cogs --cog-data-dir /scratch/genomics/stegmannt/metagenomes/first_data-CC/06_anvio/data/DATABASE/\u001b[0m\n\u001b[0m                                                                                                ^\u001b[0m\n\u001b[0;31mSyntaxError\u001b[0m\u001b[0;31m:\u001b[0m invalid decimal literal\n"
     ]
    }
   ],
   "source": [
    "anvi-setup-ncbi-cogs --cog-data-dir /scratch/genomics/stegmannt/metagenomes/first_data-CC-revisited/04_binning/data/DATABASE/\n",
    "#you'll only have to do this once, after this you should be able to copy this database\n",
    "\n",
    "anvi-run-ncbi-cogs -c ../data/working/\"$f\".contigs.db  --cog-data-dir /scratch/genomics/stegmannt/metagenomes/first_data-CC/06_anvio/data/DATABASE/\n",
    "#this annotates your contigs with functions from the NCBI COG database that you generated. "
   ]
  },
  {
   "cell_type": "markdown",
   "id": "391d69ce",
   "metadata": {},
   "source": [
    "##### Taxonomy estimates"
   ]
  },
  {
   "cell_type": "markdown",
   "id": "ebcaf274",
   "metadata": {},
   "source": [
    "### Single profiling\n",
    "Other than the contig file, the profile that is about to be generated contains information about your contigs, based on the results of your mapping step. Each database links to a contig database. Its important to make sure that all the profiles that you are generating are generated using the same parameters, since you're quite likely to *merge* them later. For more information on profiling:\n",
    "\n",
    "https://anvio.org/help/main/programs/anvi-profile/\n"
   ]
  },
  {
   "cell_type": "code",
   "execution_count": 1,
   "id": "58b6b936",
   "metadata": {},
   "outputs": [
    {
     "ename": "SyntaxError",
     "evalue": "invalid syntax (<ipython-input-1-140c1f352b25>, line 1)",
     "output_type": "error",
     "traceback": [
      "\u001b[0;36m  Input \u001b[0;32mIn [1]\u001b[0;36m\u001b[0m\n\u001b[0;31m    for f in <sample1> <sample2> <sample3> <sample4>\u001b[0m\n\u001b[0m             ^\u001b[0m\n\u001b[0;31mSyntaxError\u001b[0m\u001b[0;31m:\u001b[0m invalid syntax\n"
     ]
    }
   ],
   "source": [
    "for f in <sample1> <sample2> <sample3> <sample4>\n",
    "anvi-profile -i ../../03_mapping/data/results/\"$f\".bam -c ../data/working/contigs.db \\\n",
    "--min-contig-length 1000 \\\n",
    "--output-dir ../data/working/\"$f\"_singeprofile \\\n",
    "--sample-name \"$f\"\n",
    "#these are all mostly optional flags, but you'll want to incorporate them, as they standardize annotation and contents\n",
    "# cluster-contigs is only needed when creating a single profile, which you'll probably not do"
   ]
  },
  {
   "cell_type": "markdown",
   "id": "6c57b016",
   "metadata": {},
   "source": [
    "#### Merging of profiles\n",
    "To work any further with Anvi'O, you need to merge your profiles into a single profile. There is more to this step, but that is all very neatly explained here:\n",
    "\n",
    "https://anvio.org/help/main/programs/anvi-merge/"
   ]
  },
  {
   "cell_type": "code",
   "execution_count": 2,
   "id": "ecc80b06",
   "metadata": {},
   "outputs": [
    {
     "ename": "SyntaxError",
     "evalue": "invalid syntax (<ipython-input-2-c0ff3c4f5243>, line 2)",
     "output_type": "error",
     "traceback": [
      "\u001b[0;36m  Input \u001b[0;32mIn [2]\u001b[0;36m\u001b[0m\n\u001b[0;31m    anvi-merge ..data/working/Coral*-singleprofile/PROFILE.db  -o ../data/working/samples-merged -c ../data/working/co-assembly1_contigs.db -S M_cavernosa\u001b[0m\n\u001b[0m                ^\u001b[0m\n\u001b[0;31mSyntaxError\u001b[0m\u001b[0;31m:\u001b[0m invalid syntax\n"
     ]
    }
   ],
   "source": [
    "#this piece will merge your single profiles into an overarching one. At this point, make sure to take extreme care that your samples carry some similarity!\n",
    "anvi-merge ..data/working/Coral*-singleprofile/PROFILE.db  -o ../data/working/samples-merged -c ../data/working/co-assembly1_contigs.db -S M_cavernosa"
   ]
  },
  {
   "cell_type": "markdown",
   "id": "b6675344",
   "metadata": {},
   "source": [
    "### Data interpretation\n"
   ]
  },
  {
   "cell_type": "code",
   "execution_count": null,
   "id": "e7d2b620",
   "metadata": {},
   "outputs": [],
   "source": []
  }
 ],
 "metadata": {
  "kernelspec": {
   "display_name": "Python 3",
   "language": "python",
   "name": "python3"
  },
  "language_info": {
   "codemirror_mode": {
    "name": "ipython",
    "version": 3
   },
   "file_extension": ".py",
   "mimetype": "text/x-python",
   "name": "python",
   "nbconvert_exporter": "python",
   "pygments_lexer": "ipython3",
   "version": "3.9.7"
  }
 },
 "nbformat": 4,
 "nbformat_minor": 5
}
