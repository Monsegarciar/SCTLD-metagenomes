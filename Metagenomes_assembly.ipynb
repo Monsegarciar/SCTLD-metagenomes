{
 "cells": [
  {
   "cell_type": "markdown",
   "id": "476ce3a7",
   "metadata": {},
   "source": [
    "## *De novo* assembly \n",
    "This piece of code deals with the generation of contigs from the quality trimmed reads from the Illumina sequencer. It is a memory intensive process and will take quite some time, even with a powerful computing cluster at your fingertips. For assembly, two pieces of software are used:\n",
    "\n",
    "* MegaHIT: https://github.com/voutcn/megahit\n",
    "* QUAST: http://quast.sourceforge.net/\n",
    "\n",
    "MegaHIT has quite a few options on how to perform the assembly, so it is recommended to familiarize yourself with their options and the way the software works."
   ]
  },
  {
   "cell_type": "markdown",
   "id": "19dba421",
   "metadata": {},
   "source": [
    "#### MegaHIT\n",
    "For MegaHIT, nothing beside the quality-trimmed reads from the quality control is required. Do realise that assembly is fairly sensitive to adapters still being present, so if this step is not yet performed, then this is a must before continuing."
   ]
  },
  {
   "cell_type": "code",
   "execution_count": 1,
   "id": "6b745876",
   "metadata": {},
   "outputs": [
    {
     "ename": "SyntaxError",
     "evalue": "invalid syntax (<ipython-input-1-0a7394b13c60>, line 1)",
     "output_type": "error",
     "traceback": [
      "\u001b[0;36m  Input \u001b[0;32mIn [1]\u001b[0;36m\u001b[0m\n\u001b[0;31m    megahit --presets meta-large \\\u001b[0m\n\u001b[0m                      ^\u001b[0m\n\u001b[0;31mSyntaxError\u001b[0m\u001b[0;31m:\u001b[0m invalid syntax\n"
     ]
    }
   ],
   "source": [
    "megahit --presets meta-large \\\n",
    "-1 /scratch/genomics/stegmannt/metagenomes/first_data-CC/01_quality/data/results/Coral1_host_removed_R1.fastq \\\n",
    "-2 /scratch/genomics/stegmannt/metagenomes/first_data-CC/01_quality/data/results/Coral1_host_removed_R2.fastq \\\n",
    "-o ../data/working/Coral1_assembly_complex --out-prefix Coral1_complex_HM\n",
    "\n",
    "#in this, --meta-large indicates to MegaHIT that it is working with a complex sample, and thus will judge contigs more strictly"
   ]
  },
  {
   "cell_type": "markdown",
   "id": "41f4df2d",
   "metadata": {},
   "source": [
    "#### QUAST\n",
    "QUAST executes a quality control for your contigs. This is also a good indicator whether a set of contigs is going to be of use to you. If there are very few large contigs (>1000), binning may not work very well. "
   ]
  },
  {
   "cell_type": "code",
   "execution_count": 1,
   "id": "44031458",
   "metadata": {},
   "outputs": [
    {
     "ename": "SyntaxError",
     "evalue": "invalid syntax (<ipython-input-1-9001c02202cf>, line 1)",
     "output_type": "error",
     "traceback": [
      "\u001b[0;36m  Input \u001b[0;32mIn [1]\u001b[0;36m\u001b[0m\n\u001b[0;31m    for f in Coral1 Coral2 Coral4 Coral5\u001b[0m\n\u001b[0m                    ^\u001b[0m\n\u001b[0;31mSyntaxError\u001b[0m\u001b[0;31m:\u001b[0m invalid syntax\n"
     ]
    }
   ],
   "source": [
    "for f in Coral1 Coral2 Coral4 Coral5 \n",
    "do\n",
    "quast ../data/working/\"$f\"_assembly_complex/\"$f\".contigs.fa -o ../data/results/quast_output_\"$f\"_complex"
   ]
  },
  {
   "cell_type": "markdown",
   "id": "769c02d0",
   "metadata": {},
   "source": [
    "#### Deflines and size\n",
    "For binning, only contigs over 1000 basepairs can be considered. This is due to the fact that most binning softwares rely on the use of k-mers, and smaller sizes don't give an accurate k-mer signature for k-step =4. So, the following piece of code uses scripts from Anvi'O to do two things: fix the deflines of your contigs, so Anvi'O can use them (and makes them nice and uniform), and *remove* all contigs that are under 1000 bp. It is strongly recommended to save your contigs, so you can be sure to go back to them if you decide to go another direction with this. "
   ]
  },
  {
   "cell_type": "code",
   "execution_count": 2,
   "id": "63747472",
   "metadata": {},
   "outputs": [
    {
     "ename": "SyntaxError",
     "evalue": "invalid syntax (<ipython-input-2-dc09bcf27e0c>, line 1)",
     "output_type": "error",
     "traceback": [
      "\u001b[0;36m  Input \u001b[0;32mIn [2]\u001b[0;36m\u001b[0m\n\u001b[0;31m    anvi-script-reformat-fasta contigs.fa -o contigs-fixed.fa -l 1000 --simplify-names\u001b[0m\n\u001b[0m                               ^\u001b[0m\n\u001b[0;31mSyntaxError\u001b[0m\u001b[0;31m:\u001b[0m invalid syntax\n"
     ]
    }
   ],
   "source": [
    "anvi-script-reformat-fasta contigs.fa -o contigs-fixed.fa -l 1000 --simplify-names"
   ]
  },
  {
   "cell_type": "code",
   "execution_count": null,
   "id": "89ee787d",
   "metadata": {},
   "outputs": [],
   "source": []
  }
 ],
 "metadata": {
  "kernelspec": {
   "display_name": "Python 3",
   "language": "python",
   "name": "python3"
  },
  "language_info": {
   "codemirror_mode": {
    "name": "ipython",
    "version": 3
   },
   "file_extension": ".py",
   "mimetype": "text/x-python",
   "name": "python",
   "nbconvert_exporter": "python",
   "pygments_lexer": "ipython3",
   "version": "3.9.7"
  }
 },
 "nbformat": 4,
 "nbformat_minor": 5
}
