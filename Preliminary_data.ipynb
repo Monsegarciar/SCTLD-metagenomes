{
 "cells": [
  {
   "cell_type": "markdown",
   "id": "85fb3c1a",
   "metadata": {},
   "source": [
    "### phyloFlash 3.4\n",
    "\n",
    "This is a program that can pre-determine the occurrence of certain species of microbes in your metagenomic read file. "
   ]
  },
  {
   "cell_type": "code",
   "execution_count": null,
   "id": "60b132ca",
   "metadata": {},
   "outputs": [],
   "source": [
    "READSPATH=/path/to/reads/\n",
    "\n",
    "for f in SAMPLE1 SAMPLE2 SAMPLE3\n",
    "do\n",
    "phyloFlash.pl -lib \"$f\" -read1 $READSPATH/\"$f\"_R1.fq -read2 -\"$f\"_R2.fq -almosteverything -readlength 150 -CPUs $NSLOTS\n",
    "done\n"
   ]
  }
 ],
 "metadata": {
  "kernelspec": {
   "display_name": "Python 3",
   "language": "python",
   "name": "python3"
  },
  "language_info": {
   "codemirror_mode": {
    "name": "ipython",
    "version": 3
   },
   "file_extension": ".py",
   "mimetype": "text/x-python",
   "name": "python",
   "nbconvert_exporter": "python",
   "pygments_lexer": "ipython3",
   "version": "3.9.7"
  }
 },
 "nbformat": 4,
 "nbformat_minor": 5
}
